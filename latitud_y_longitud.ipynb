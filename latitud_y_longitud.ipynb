{
  "nbformat": 4,
  "nbformat_minor": 0,
  "metadata": {
    "colab": {
      "provenance": []
    },
    "kernelspec": {
      "name": "python3",
      "display_name": "Python 3"
    },
    "language_info": {
      "name": "python"
    }
  },
  "cells": [
    {
      "cell_type": "code",
      "execution_count": null,
      "metadata": {
        "id": "Cdgp9NTC-g-F"
      },
      "outputs": [],
      "source": [
        "import pandas as pd"
      ]
    },
    {
      "cell_type": "code",
      "source": [
        "general=pd.read_excel('general.xlsx')"
      ],
      "metadata": {
        "id": "Aw9qXHNT-2IV"
      },
      "execution_count": null,
      "outputs": []
    },
    {
      "cell_type": "code",
      "source": [
        "municipios=pd.read_excel('municipios.xlsx')"
      ],
      "metadata": {
        "id": "pwxUp-Ek-6vP"
      },
      "execution_count": null,
      "outputs": []
    },
    {
      "cell_type": "code",
      "source": [
        "general = general.merge(\n",
        "    municipios[['COD_INE', 'LONGITUD_ETRS89', 'LATITUD_ETRS89']],\n",
        "    on='COD_INE',\n",
        "    how='left'\n",
        ")"
      ],
      "metadata": {
        "id": "cJvnGUs__BsO"
      },
      "execution_count": null,
      "outputs": []
    },
    {
      "cell_type": "code",
      "source": [
        "general.to_excel(\"general_3.xlsx\", index=False)"
      ],
      "metadata": {
        "id": "4t51l1fQ_2DD"
      },
      "execution_count": null,
      "outputs": []
    }
  ]
}