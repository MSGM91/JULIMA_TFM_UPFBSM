{
  "nbformat": 4,
  "nbformat_minor": 0,
  "metadata": {
    "colab": {
      "provenance": []
    },
    "kernelspec": {
      "name": "python3",
      "display_name": "Python 3"
    },
    "language_info": {
      "name": "python"
    }
  },
  "cells": [
    {
      "cell_type": "code",
      "execution_count": null,
      "metadata": {
        "id": "q3PzaYJauUxW"
      },
      "outputs": [],
      "source": [
        "import pandas as pd"
      ]
    },
    {
      "cell_type": "code",
      "source": [
        "df_general=pd.read_excel('datset_general_4.xlsx')"
      ],
      "metadata": {
        "id": "D3M_J67iuiJt"
      },
      "execution_count": null,
      "outputs": []
    },
    {
      "cell_type": "code",
      "source": [
        "df_alquiler=pd.read_excel('precios_alquiler_pueblos_mayo2025.xlsx')"
      ],
      "metadata": {
        "id": "awYnZjD8uuDo"
      },
      "execution_count": null,
      "outputs": []
    },
    {
      "cell_type": "code",
      "source": [
        "df_venta=pd.read_excel('precios_venta_pueblos_mayo2025.xlsx')"
      ],
      "metadata": {
        "id": "KS3bG02tu7-B"
      },
      "execution_count": null,
      "outputs": []
    },
    {
      "cell_type": "code",
      "source": [
        "articulos = [\n",
        "    'el', 'la', 'los', 'las', 'lo',\n",
        "    'al', 'del',\n",
        "    'san', 'santa',\n",
        "    'sa', 'es', 'ses', 'son',\n",
        "    'a', 'de', 'en', 'do',\n",
        "    'da', 'das', 'dos'\n",
        "]\n",
        "\n",
        "def normalizar_nombre(nombre):\n",
        "    if not isinstance(nombre, str):\n",
        "        return ''\n",
        "\n",
        "    nombre = nombre.strip().lower()\n",
        "\n",
        "    # Unificar separador \"/\"\n",
        "    nombre = ' / '.join([parte.strip() for parte in nombre.split('/')])\n",
        "\n",
        "    # Mover artículos si corresponde\n",
        "    partes = nombre.split()\n",
        "    if partes[0] in articulos and len(partes) > 1:\n",
        "        return f\"{' '.join(partes[1:])}, {partes[0]}\"\n",
        "\n",
        "    return nombre\n"
      ],
      "metadata": {
        "id": "sS1IQu4-_PFr"
      },
      "execution_count": null,
      "outputs": []
    },
    {
      "cell_type": "code",
      "source": [
        "df_alquiler['Nombre'] = df_alquiler['Pueblo'].apply(normalizar_nombre)\n",
        "df_venta['Nombre'] = df_venta['Pueblo'].apply(normalizar_nombre)\n",
        "df_general['Nombre_normalizado'] = df_general['Nombre'].str.strip().str.lower()\n"
      ],
      "metadata": {
        "id": "946il_l0_SJT"
      },
      "execution_count": null,
      "outputs": []
    },
    {
      "cell_type": "code",
      "source": [
        "df_alquiler = df_alquiler.rename(columns={\"Precio m2 Mayo 2025\": \"Precio Alquiler m2 Mayo 2025\"})\n",
        "df_venta = df_venta.rename(columns={\"Precio m2 Mayo 2025\": \"Precio Venta m2 Mayo 2025\"})\n",
        "\n",
        "df_merge = df_general.merge(\n",
        "    df_alquiler[['Nombre', 'Precio Alquiler m2 Mayo 2025']],\n",
        "    left_on='Nombre_normalizado',\n",
        "    right_on='Nombre',\n",
        "    how='left'\n",
        ")\n",
        "\n",
        "df_merge = df_merge.merge(\n",
        "    df_venta[['Nombre', 'Precio Venta m2 Mayo 2025']],\n",
        "    left_on='Nombre_normalizado',\n",
        "    right_on='Nombre',\n",
        "    how='left',\n",
        "    suffixes=('_alquiler', '_venta')\n",
        ")\n"
      ],
      "metadata": {
        "id": "3wA18Tl8_WDE"
      },
      "execution_count": null,
      "outputs": []
    },
    {
      "cell_type": "code",
      "source": [
        "df_merge.to_excel(\"dataset_completo.xlsx\", index=False)"
      ],
      "metadata": {
        "id": "y5W-Y6DkwGys"
      },
      "execution_count": null,
      "outputs": []
    }
  ]
}